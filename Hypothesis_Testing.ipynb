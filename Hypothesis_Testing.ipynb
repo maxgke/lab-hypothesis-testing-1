{
 "cells": [
  {
   "cell_type": "markdown",
   "metadata": {
    "slideshow": {
     "slide_type": "slide"
    }
   },
   "source": [
    "# Hypothesis Testing"
   ]
  },
  {
   "cell_type": "markdown",
   "metadata": {
    "Collapsed": "false",
    "colab_type": "text",
    "id": "6kUO_Wl_1gMJ",
    "slideshow": {
     "slide_type": "slide"
    }
   },
   "source": [
    "## Introduction\n",
    "\n"
   ]
  },
  {
   "cell_type": "markdown",
   "metadata": {
    "slideshow": {
     "slide_type": "fragment"
    }
   },
   "source": [
    "In this lecture we will look at hypothesis testing. In particular, we will discuss:\n",
    "\n"
   ]
  },
  {
   "cell_type": "markdown",
   "metadata": {
    "slideshow": {
     "slide_type": "fragment"
    }
   },
   "source": [
    "- What hypotheses are;"
   ]
  },
  {
   "cell_type": "markdown",
   "metadata": {
    "slideshow": {
     "slide_type": "fragment"
    }
   },
   "source": [
    "- Statistical Significance;\n"
   ]
  },
  {
   "cell_type": "markdown",
   "metadata": {
    "slideshow": {
     "slide_type": "fragment"
    }
   },
   "source": [
    "- P-values;"
   ]
  },
  {
   "cell_type": "markdown",
   "metadata": {
    "slideshow": {
     "slide_type": "fragment"
    }
   },
   "source": [
    "- T-tests and z-test in hypothesis testing."
   ]
  },
  {
   "cell_type": "markdown",
   "metadata": {
    "slideshow": {
     "slide_type": "slide"
    }
   },
   "source": [
    "Let us first import the necessary libraries."
   ]
  },
  {
   "cell_type": "code",
   "execution_count": 247,
   "metadata": {
    "Collapsed": "false",
    "colab": {},
    "colab_type": "code",
    "id": "HphhGC-Dmb0q",
    "slideshow": {
     "slide_type": "slide"
    }
   },
   "outputs": [],
   "source": [
    "import pandas as pd\n",
    "import numpy as np\n",
    "import seaborn as sns\n",
    "from scipy import stats\n",
    "from scipy.stats import ttest_1samp\n",
    "import numpy as np\n",
    "from scipy.stats import norm\n",
    "\n",
    "from scipy.stats import t\n",
    "import matplotlib.pyplot as plt\n",
    "sns.set_style(\"darkgrid\") "
   ]
  },
  {
   "cell_type": "markdown",
   "metadata": {
    "slideshow": {
     "slide_type": "slide"
    }
   },
   "source": [
    "## The Hypothesis"
   ]
  },
  {
   "cell_type": "markdown",
   "metadata": {},
   "source": [
    "We are going to do statements about the population and test if it's accurate or not.\n",
    "\n",
    "+ Reframes our qualitative question (\"Is this difference real?\") into a mathematical question (\"What is the probability that the difference I am observing is due to chance?\")\n",
    " \n",
    "+ Goal: reject the null hypothesis: \"The two populations I am comparing are identical and the differences I observe are due to chance.\"\n",
    "\n",
    "+ We reject the null hypothesis by proving that it is unlikely. We do that by calculating the p-value (using a hypothesis test). We generally want p < 0.05 (i.e., there’s only a 5% chance that two identical distributions could have produced these results)\n",
    " "
   ]
  },
  {
   "cell_type": "markdown",
   "metadata": {
    "slideshow": {
     "slide_type": "fragment"
    }
   },
   "source": [
    "If we get a p value of 0.10 then we can not reject the null hypothesis that these observation comes from the inherent population distribution (if we are using the standard alpha of 5%).\n",
    "\n",
    "For example, we can hypothesise that the average income of NYC residents is $850,000."
   ]
  },
  {
   "cell_type": "markdown",
   "metadata": {
    "slideshow": {
     "slide_type": "slide"
    }
   },
   "source": [
    "If we want to test whether an hypothesis is true or not, we need two 'ingredients':"
   ]
  },
  {
   "cell_type": "markdown",
   "metadata": {
    "slideshow": {
     "slide_type": "fragment"
    }
   },
   "source": [
    "1.   **Null Hypothesis**: The null hypothesis is an assumption that the population average is identical to a specific value and that there is no statistical significance between the mean of the sample means and the population mean.  \n"
   ]
  },
  {
   "cell_type": "markdown",
   "metadata": {
    "slideshow": {
     "slide_type": "fragment"
    }
   },
   "source": [
    "2.  **Alternative Hypothesis:** An alternative hypothesis is the *opposite* of the null hypothesis. "
   ]
  },
  {
   "cell_type": "markdown",
   "metadata": {
    "slideshow": {
     "slide_type": "fragment"
    }
   },
   "source": [
    "#### In hypothesis testing, our goal is to **reject the null hypothesis** and reject a specific claim based on the data at hand.\n"
   ]
  },
  {
   "cell_type": "markdown",
   "metadata": {
    "slideshow": {
     "slide_type": "slide"
    }
   },
   "source": [
    "### Examples of Null and Alternative Hypotheses"
   ]
  },
  {
   "cell_type": "markdown",
   "metadata": {
    "slideshow": {
     "slide_type": "fragment"
    }
   },
   "source": [
    "#### Example 1\n",
    "\n",
    "Suppose we want to test whether the average income of a New Yorker is different from $850000. \n",
    "\n",
    "*  **H0: $\\mu =$ \\$850.000** \n",
    "*  **H1: $\\mu \\neq$  \\$850.000**"
   ]
  },
  {
   "cell_type": "markdown",
   "metadata": {
    "slideshow": {
     "slide_type": "slide"
    }
   },
   "source": [
    "#### Example 2\n",
    "\n",
    "Suppose that we want to test whether the average age for coronavirus patients is lower than 67. \n",
    "\n",
    "*  **H0: $\\mu =$ 67**  \n",
    "*  **H1: $\\mu < $ 67**"
   ]
  },
  {
   "cell_type": "markdown",
   "metadata": {
    "slideshow": {
     "slide_type": "slide"
    }
   },
   "source": [
    "#### Example 3\n",
    "\n",
    "Suppose we want to test whether blood sugar level rises if we administer a medicine (assume that the the average blood sugar level is 5.0 mmol/L). \n",
    "\n",
    "-  H0: $\\mu $ = 5.0 mmol\\/L \n",
    "-  H1: $\\mu >$ 5.0 mmol/L  "
   ]
  },
  {
   "cell_type": "markdown",
   "metadata": {
    "slideshow": {
     "slide_type": "slide"
    }
   },
   "source": [
    "#### Example 4\n",
    "\n",
    "Suppose that we want to reject someone's claims that CO2 levels are the same as in 1965. In 1965, the CO2 levels were 320 micro mol/mol. We claim that it's much higher today then it was in 1965. \n",
    "\n",
    "-  H0: $\\mu $ = 320\n",
    "-  H1: $\\mu >$ 320"
   ]
  },
  {
   "cell_type": "markdown",
   "metadata": {
    "slideshow": {
     "slide_type": "slide"
    }
   },
   "source": [
    "### The goal of hypothesis testing"
   ]
  },
  {
   "cell_type": "markdown",
   "metadata": {
    "slideshow": {
     "slide_type": "fragment"
    }
   },
   "source": [
    "As said before, the ultimate goal of hypothesis testing is to *reject* the null hypothesis. "
   ]
  },
  {
   "cell_type": "markdown",
   "metadata": {
    "slideshow": {
     "slide_type": "slide"
    }
   },
   "source": [
    "We can only reject the null hypothesis if there is a **statistically significant** difference between the assumed value for $\\mu$ and the real population $\\mu$."
   ]
  },
  {
   "cell_type": "markdown",
   "metadata": {
    "slideshow": {
     "slide_type": "slide"
    }
   },
   "source": [
    "### Statistical Significance"
   ]
  },
  {
   "cell_type": "markdown",
   "metadata": {
    "slideshow": {
     "slide_type": "fragment"
    }
   },
   "source": [
    "But what does it mean for an outcome to be statistically significant? "
   ]
  },
  {
   "cell_type": "markdown",
   "metadata": {
    "slideshow": {
     "slide_type": "slide"
    }
   },
   "source": [
    "Suppose (again) that someone makes the following claim:"
   ]
  },
  {
   "cell_type": "markdown",
   "metadata": {
    "slideshow": {
     "slide_type": "fragment"
    }
   },
   "source": [
    "* The CO2 levels in 1965 are the same as today. "
   ]
  },
  {
   "cell_type": "markdown",
   "metadata": {
    "slideshow": {
     "slide_type": "fragment"
    }
   },
   "source": [
    "Again, we have the following:\n",
    "\n",
    "-  H0: $\\mu $ = 320\n",
    "-  H1: $\\mu >$ 320"
   ]
  },
  {
   "cell_type": "markdown",
   "metadata": {
    "slideshow": {
     "slide_type": "slide"
    }
   },
   "source": [
    "Now suppose that we do our work and find that the mean of a large enough sample is not 320, but 330. "
   ]
  },
  {
   "cell_type": "markdown",
   "metadata": {
    "slideshow": {
     "slide_type": "fragment"
    }
   },
   "source": [
    "Can we now reject our null hypothesis?"
   ]
  },
  {
   "cell_type": "markdown",
   "metadata": {
    "slideshow": {
     "slide_type": "fragment"
    }
   },
   "source": [
    "No, because we might have been unfortunate enough to get a sample with a sample mean that deviates from the true mean. "
   ]
  },
  {
   "cell_type": "markdown",
   "metadata": {
    "slideshow": {
     "slide_type": "fragment"
    }
   },
   "source": [
    "In other words, recall from our previous lecture where we talked about the confidence interval: there we saw that there is always some variability in the sample means (see: CLT). "
   ]
  },
  {
   "cell_type": "markdown",
   "metadata": {
    "slideshow": {
     "slide_type": "slide"
    }
   },
   "source": [
    "Let's circle back to our example of the CO2 levels in 1965. Suppose we get some new and more data and find that the sample mean is now 410. "
   ]
  },
  {
   "cell_type": "markdown",
   "metadata": {
    "slideshow": {
     "slide_type": "fragment"
    }
   },
   "source": [
    "Can we reject the null hypothesis? "
   ]
  },
  {
   "cell_type": "markdown",
   "metadata": {
    "slideshow": {
     "slide_type": "fragment"
    }
   },
   "source": [
    "Yes, we can! Our intuition tells us that there may be some variability in the data causing sample 1 to have a mean of 330, sample 2 mean to have a mean of 341, ect. "
   ]
  },
  {
   "cell_type": "markdown",
   "metadata": {
    "slideshow": {
     "slide_type": "fragment"
    }
   },
   "source": [
    "However, it is highly unlikely that if the actual value is 320, we would get a mean sample value of 410! "
   ]
  },
  {
   "cell_type": "markdown",
   "metadata": {
    "slideshow": {
     "slide_type": "slide"
    }
   },
   "source": [
    "This begs the following question: *How we can quantify this intuition?* "
   ]
  },
  {
   "cell_type": "markdown",
   "metadata": {
    "slideshow": {
     "slide_type": "fragment"
    }
   },
   "source": [
    "#### In other words, how can we quantify *intuitive* significance (not really testable) such that we get *statistical* significance (testable)? "
   ]
  },
  {
   "cell_type": "markdown",
   "metadata": {
    "slideshow": {
     "slide_type": "fragment"
    }
   },
   "source": [
    "As we will see, we can use the **p-value** for that."
   ]
  },
  {
   "cell_type": "markdown",
   "metadata": {
    "slideshow": {
     "slide_type": "slide"
    }
   },
   "source": [
    "### The p-value: Introduction"
   ]
  },
  {
   "cell_type": "markdown",
   "metadata": {},
   "source": [
    "Reframes our qualitative question (\"Is this difference real?\") into a mathematical question (\"What is the\n",
    "probability that the difference I am observing is due to chance?\").\n",
    "+ P value < 0.05: An observed difference between two quantities is probably not due to chance. We reject null hypothesis.\n",
    "+ P value > 0.05: There is not enough evidence to say that an observed difference between two quantities is not random. We cannot reject null hypothesis."
   ]
  },
  {
   "cell_type": "markdown",
   "metadata": {},
   "source": [
    "We can choose our alpha. For instance, I can say that  **when my sample mean is within the 5% most extreme values, I can reject the null hypothesis.**\n",
    "\n",
    "**Important:** Taking a cut-off value of 0.05 - which is often called **alpha or the critical value** - is similar to taking the 5% quantile for either the left or right tail **or** 2 x 2.5% quantiles on both tails. "
   ]
  },
  {
   "cell_type": "markdown",
   "metadata": {
    "slideshow": {
     "slide_type": "fragment"
    }
   },
   "source": [
    "Suppose that we decide that we want to test the following statement:\n",
    "\n",
    "* The average age of COVID patients who end up in the hospital is about 75."
   ]
  },
  {
   "cell_type": "markdown",
   "metadata": {
    "slideshow": {
     "slide_type": "slide"
    }
   },
   "source": [
    "This statement provides us with the following model:"
   ]
  },
  {
   "cell_type": "code",
   "execution_count": 248,
   "metadata": {
    "slideshow": {
     "slide_type": "slide"
    }
   },
   "outputs": [
    {
     "data": {
      "image/png": "[encoded data removed]",
      "text/plain": [
       "<Figure size 432x288 with 1 Axes>"
      ]
     },
     "metadata": {},
     "output_type": "display_data"
    }
   ],
   "source": [
    "from scipy.stats import norm\n",
    "\n",
    "mean = 75\n",
    "stdev = 7\n",
    "\n",
    "normal = norm(loc = mean, scale = stdev) \n",
    "fig, ax = plt.subplots(1, 1)\n",
    "\n",
    "normal_75 = norm(loc = mean, scale = stdev) \n",
    "x = np.linspace(50, 100,1000)        \n",
    "y = normal_75.pdf(x)\n",
    "ax.plot(x,y, color='b')\n",
    "\n",
    "plt.show()"
   ]
  },
  {
   "cell_type": "markdown",
   "metadata": {
    "slideshow": {
     "slide_type": "slide"
    }
   },
   "source": [
    "Suppose that we will now draw 4 random samples from the population."
   ]
  },
  {
   "cell_type": "markdown",
   "metadata": {
    "slideshow": {
     "slide_type": "skip"
    }
   },
   "source": [
    "Recall that the distribution of sample means is normally distributed so we expect it to take on values on the blue curve."
   ]
  },
  {
   "cell_type": "markdown",
   "metadata": {
    "slideshow": {
     "slide_type": "slide"
    }
   },
   "source": [
    "Say that we draw 4 samples with the following values for the sample means:\n",
    "\n",
    "* $\\mu_{1}$: 80\n",
    "* $\\mu_{2}$: 76\n",
    "* $\\mu_{3}$: 83\n",
    "* $\\mu_{4}$: 69"
   ]
  },
  {
   "cell_type": "markdown",
   "metadata": {
    "slideshow": {
     "slide_type": "fragment"
    }
   },
   "source": [
    "Let us now plot these values in our model."
   ]
  },
  {
   "cell_type": "code",
   "execution_count": 249,
   "metadata": {
    "slideshow": {
     "slide_type": "slide"
    }
   },
   "outputs": [
    {
     "data": {
      "image/png": "[encoded data removed]",
      "text/plain": [
       "<Figure size 432x288 with 1 Axes>"
      ]
     },
     "metadata": {},
     "output_type": "display_data"
    }
   ],
   "source": [
    "mean = 75\n",
    "stdev = 7\n",
    "\n",
    "normal = norm(loc = mean, scale = stdev) \n",
    "fig, ax = plt.subplots(1, 1)\n",
    "\n",
    "normal_75 = norm(loc = mean, scale = stdev) \n",
    "x = np.linspace(50, 100,1000)        \n",
    "y = normal_75.pdf(x)\n",
    "ax.plot(x,y, color='b')\n",
    "\n",
    "plt.plot([76, 76], [0, 0.06], 'k--', lw=4, color='g')\n",
    "plt.plot([80, 80], [0, 0.06], 'k--', lw=4, color='g')\n",
    "plt.plot([83, 83], [0, 0.06], 'k--', lw=4, color='g')\n",
    "plt.plot([69, 69], [0, 0.06], 'k--', lw=4, color='g')\n",
    "\n",
    "plt.show()"
   ]
  },
  {
   "cell_type": "markdown",
   "metadata": {
    "slideshow": {
     "slide_type": "slide"
    }
   },
   "source": [
    "On the basis of the samples (i.e. our data), it seems that our model is pretty good at 'predicting' the outcome for the sample means."
   ]
  },
  {
   "cell_type": "markdown",
   "metadata": {
    "slideshow": {
     "slide_type": "slide"
    }
   },
   "source": [
    "Let us now look at another model."
   ]
  },
  {
   "cell_type": "markdown",
   "metadata": {
    "slideshow": {
     "slide_type": "fragment"
    }
   },
   "source": [
    "Suppose that we assume the following:\n",
    "\n",
    "* The average age of COVID patients who end up in the hospital is  50."
   ]
  },
  {
   "cell_type": "code",
   "execution_count": 250,
   "metadata": {
    "slideshow": {
     "slide_type": "slide"
    }
   },
   "outputs": [
    {
     "data": {
      "image/png": "[encoded data removed]",
      "text/plain": [
       "<Figure size 432x288 with 1 Axes>"
      ]
     },
     "metadata": {},
     "output_type": "display_data"
    }
   ],
   "source": [
    "mean = 50\n",
    "stdev = 7\n",
    "\n",
    "normal = norm(loc = mean, scale = stdev) \n",
    "fig, ax = plt.subplots(1, 1)\n",
    "\n",
    "normal_75 = norm(loc = mean, scale = stdev) \n",
    "x = np.linspace(20, 90,1000)        \n",
    "y = normal_75.pdf(x)\n",
    "ax.plot(x,y, color='r')\n",
    "\n",
    "plt.show()"
   ]
  },
  {
   "cell_type": "markdown",
   "metadata": {
    "slideshow": {
     "slide_type": "slide"
    }
   },
   "source": [
    "Again, we will draw 4 samples from the population and assume that that we get the following outcomes:"
   ]
  },
  {
   "cell_type": "markdown",
   "metadata": {
    "slideshow": {
     "slide_type": "fragment"
    }
   },
   "source": [
    "* $\\mu_{1}$: 79\n",
    "* $\\mu_{2}$: 77\n",
    "* $\\mu_{3}$: 64\n",
    "* $\\mu_{4}$: 72"
   ]
  },
  {
   "cell_type": "markdown",
   "metadata": {
    "slideshow": {
     "slide_type": "fragment"
    }
   },
   "source": [
    "As before, we will include these values in our model."
   ]
  },
  {
   "cell_type": "code",
   "execution_count": 251,
   "metadata": {
    "slideshow": {
     "slide_type": "slide"
    }
   },
   "outputs": [
    {
     "data": {
      "image/png": "[encoded data removed]",
      "text/plain": [
       "<Figure size 432x288 with 1 Axes>"
      ]
     },
     "metadata": {},
     "output_type": "display_data"
    }
   ],
   "source": [
    "mean = 50\n",
    "stdev = 7\n",
    "\n",
    "normal = norm(loc = mean, scale = stdev) \n",
    "fig, ax = plt.subplots(1, 1)\n",
    "normal_75 = norm(loc = mean, scale = stdev) \n",
    "x = np.linspace(20, 90,1000)        \n",
    "y = normal_75.pdf(x)\n",
    "\n",
    "plt.plot([79, 79], [0, 0.06], 'k--', lw=4, color='g')\n",
    "plt.plot([77, 77], [0, 0.06], 'k--', lw=4, color='g')\n",
    "plt.plot([64, 64], [0, 0.06], 'k--', lw=4, color='g')\n",
    "plt.plot([72, 72], [0, 0.06], 'k--', lw=4, color='g')\n",
    "\n",
    "ax.plot(x,y, color='r')\n",
    "plt.show()"
   ]
  },
  {
   "cell_type": "markdown",
   "metadata": {
    "slideshow": {
     "slide_type": "slide"
    }
   },
   "source": [
    "As can be seen, under the red model, it is highly unlikely that we will get sample means that are located on the right tail of the curve. "
   ]
  },
  {
   "cell_type": "markdown",
   "metadata": {
    "slideshow": {
     "slide_type": "fragment"
    }
   },
   "source": [
    "In other words, these values are too extreme according to our model so we would not expect them to see so frequently.  "
   ]
  },
  {
   "cell_type": "markdown",
   "metadata": {
    "slideshow": {
     "slide_type": "fragment"
    }
   },
   "source": [
    "This tells us that our model is likely to be wrong and we can 'reject' this model -- **this is how we reject the null hypothesis.** "
   ]
  },
  {
   "cell_type": "markdown",
   "metadata": {
    "slideshow": {
     "slide_type": "slide"
    }
   },
   "source": [
    "# Hypothesis Testing in Practice; \n",
    "### When z-statistic exceeds the critical value, we can reject the null hypothesis."
   ]
  },
  {
   "cell_type": "markdown",
   "metadata": {
    "slideshow": {
     "slide_type": "fragment"
    }
   },
   "source": [
    "Let's now look at how to go about hypothesis testing in practice. "
   ]
  },
  {
   "cell_type": "markdown",
   "metadata": {
    "slideshow": {
     "slide_type": "slide"
    }
   },
   "source": [
    "### Example: Fuel Efficiency in 2008 Audi Models (Stdev Known)\n"
   ]
  },
  {
   "cell_type": "markdown",
   "metadata": {
    "Collapsed": "false",
    "colab_type": "text",
    "id": "COt56vet269C",
    "slideshow": {
     "slide_type": "fragment"
    }
   },
   "source": [
    "Suppose that we have a car manufacturer (Audi) telling us that their model 2008 cars on average use only 16.6 barrels per year. We are a bit sceptical and would therefore like to find out if this is really the case or whether it is more than 16.6 barrels p/y.\n",
    "\n"
   ]
  },
  {
   "cell_type": "markdown",
   "metadata": {
    "slideshow": {
     "slide_type": "fragment"
    }
   },
   "source": [
    "*  **H0: $\\mu = $ 16.6**  \n",
    "*  H1: $\\mu >  $ 16.6 "
   ]
  },
  {
   "cell_type": "code",
   "execution_count": 252,
   "metadata": {
    "slideshow": {
     "slide_type": "slide"
    }
   },
   "outputs": [],
   "source": [
    "data = pd.read_csv('https://raw.githubusercontent.com/loukjsmalbil/datasets_ws/master/vehicles.csv')"
   ]
  },
  {
   "cell_type": "code",
   "execution_count": 253,
   "metadata": {
    "slideshow": {
     "slide_type": "fragment"
    }
   },
   "outputs": [],
   "source": [
    "sample_data = data[(data.Make == 'Audi') & (data.Year==2008)]['Fuel Barrels/Year']"
   ]
  },
  {
   "cell_type": "markdown",
   "metadata": {
    "Collapsed": "false",
    "colab_type": "text",
    "id": "FyCi1WWBt3IU",
    "slideshow": {
     "slide_type": "slide"
    }
   },
   "source": [
    "#### 1. Specify the Alternative Hypothesis\n",
    "\n",
    "We specify the alternative hypothesis for our problem as follows: \n",
    "\n",
    "\n",
    "\n",
    "*   Ha: the average fuel efficiency for Audi's in 2008 is > 16.6. \n",
    "\n"
   ]
  },
  {
   "cell_type": "markdown",
   "metadata": {
    "Collapsed": "false",
    "colab_type": "text",
    "id": "xPZANB88uVCt",
    "slideshow": {
     "slide_type": "slide"
    }
   },
   "source": [
    "#### 2. Specify the Null Hypothesis\n",
    "\n",
    "Our null hypothesis is the following:\n",
    "\n",
    "*  h0 $=$ 16.6"
   ]
  },
  {
   "cell_type": "markdown",
   "metadata": {
    "Collapsed": "false",
    "colab_type": "text",
    "id": "Q5dU-p1Lut3X",
    "slideshow": {
     "slide_type": "slide"
    }
   },
   "source": [
    "#### 3. Set Critical Value\n",
    "\n",
    "*   $\\alpha$ = 0.05.\n",
    "\n",
    "Here we are setting starting from when we will consider that a P value rejects the null hypothesis\n"
   ]
  },
  {
   "cell_type": "code",
   "execution_count": 258,
   "metadata": {
    "slideshow": {
     "slide_type": "slide"
    }
   },
   "outputs": [],
   "source": [
    "alpha = 0.05"
   ]
  },
  {
   "cell_type": "markdown",
   "metadata": {
    "slideshow": {
     "slide_type": "slide"
    }
   },
   "source": [
    "#### 4. Compute the z-score\n"
   ]
  },
  {
   "cell_type": "markdown",
   "metadata": {
    "slideshow": {
     "slide_type": "fragment"
    }
   },
   "source": [
    "We will now compute the z-score. We need to know the z-score to determine if it is higher than $\\alpha$. Also, we know that $\\sigma$ is 2.5."
   ]
  },
  {
   "cell_type": "markdown",
   "metadata": {
    "slideshow": {
     "slide_type": "fragment"
    }
   },
   "source": [
    "$$z = \\frac{\\bar{X} - \\mu}{\\frac{\\sigma}{\\sqrt{n}}},$$\n",
    "\n",
    "where $\\bar{X}$ is the mean of the sample, $\\mu$ the assumed population mean, $\\sigma$ the population standard deviation and $n$ denotes the size of the sample. "
   ]
  },
  {
   "cell_type": "code",
   "execution_count": 254,
   "metadata": {
    "slideshow": {
     "slide_type": "slide"
    }
   },
   "outputs": [
    {
     "name": "stdout",
     "output_type": "stream",
     "text": [
      "17.716122681016078\n"
     ]
    }
   ],
   "source": [
    "# Terms\n",
    "mu = 16.6\n",
    "x_bar = sample_data.mean()\n",
    "print(x_bar)\n",
    "sigma = 2.5\n",
    "std_of_the_sample = sigma / len(sample_data)"
   ]
  },
  {
   "cell_type": "code",
   "execution_count": 255,
   "metadata": {
    "slideshow": {
     "slide_type": "slide"
    }
   },
   "outputs": [
    {
     "name": "stdout",
     "output_type": "stream",
     "text": [
      "21.429555475508664\n"
     ]
    }
   ],
   "source": [
    "z = (x_bar - mu) / std_of_the_sample\n",
    "print(z)"
   ]
  },
  {
   "cell_type": "markdown",
   "metadata": {
    "slideshow": {
     "slide_type": "slide"
    }
   },
   "source": [
    "#### 5. Calculate the p-value\n"
   ]
  },
  {
   "cell_type": "markdown",
   "metadata": {
    "slideshow": {
     "slide_type": "fragment"
    }
   },
   "source": [
    "We now know that 21.4 is our z-score value. Is this statistically significant? In other words, is it within 5% of the most extreme values we would observe?"
   ]
  },
  {
   "cell_type": "code",
   "execution_count": 256,
   "metadata": {
    "slideshow": {
     "slide_type": "slide"
    }
   },
   "outputs": [
    {
     "data": {
      "image/png": "[encoded data removed]",
      "text/plain": [
       "<Figure size 432x288 with 1 Axes>"
      ]
     },
     "metadata": {},
     "output_type": "display_data"
    }
   ],
   "source": [
    "normal = norm(loc = mu, scale = sigma) \n",
    "fig, ax = plt.subplots(1, 1)\n",
    "x = np.linspace(6,28,1000)     \n",
    "y = normal.pdf(x)\n",
    "ax.plot(x,y)\n",
    "plt.fill_between(x,y, where = x >= z, color='r')\n",
    "plt.show()"
   ]
  },
  {
   "cell_type": "markdown",
   "metadata": {
    "slideshow": {
     "slide_type": "slide"
    }
   },
   "source": [
    "As can be seen, the a value of 21.4 is quite likely to be in the extreme region under our model."
   ]
  },
  {
   "cell_type": "markdown",
   "metadata": {
    "slideshow": {
     "slide_type": "fragment"
    }
   },
   "source": [
    "However, we will have to determine if this is also really the case by looking at whether this value is larger than $\\alpha.$"
   ]
  },
  {
   "cell_type": "markdown",
   "metadata": {
    "slideshow": {
     "slide_type": "slide"
    }
   },
   "source": [
    "We can now compute the $\\alpha$ value **for this particular distribution**. The $\\alpha$ will tell us where the cut-off value lies."
   ]
  },
  {
   "cell_type": "code",
   "execution_count": 259,
   "metadata": {
    "slideshow": {
     "slide_type": "slide"
    }
   },
   "outputs": [
    {
     "name": "stdout",
     "output_type": "stream",
     "text": [
      "20.71213406737868\n"
     ]
    }
   ],
   "source": [
    "alpha = 1 - alpha \n",
    "alpha = normal.ppf(alpha)\n",
    "print(alpha)\n",
    "# confirm with cdf"
   ]
  },
  {
   "cell_type": "markdown",
   "metadata": {},
   "source": [
    "### Area after the alpha value"
   ]
  },
  {
   "cell_type": "code",
   "execution_count": 260,
   "metadata": {},
   "outputs": [
    {
     "data": {
      "image/png": "[encoded data removed]",
      "text/plain": [
       "<Figure size 432x288 with 1 Axes>"
      ]
     },
     "metadata": {},
     "output_type": "display_data"
    }
   ],
   "source": [
    "fig, ax = plt.subplots(1, 1)\n",
    "ax.plot(x,y)\n",
    "x = np.linspace(6,28,1000)     \n",
    "plt.fill_between(x,y, where = x >= alpha, color='r')\n",
    "plt.show()"
   ]
  },
  {
   "cell_type": "markdown",
   "metadata": {
    "slideshow": {
     "slide_type": "fragment"
    }
   },
   "source": [
    "*  **H0: $\\mu = $ 16.6**  \n",
    "*  H1: $\\mu >  $ 16.6 "
   ]
  },
  {
   "cell_type": "markdown",
   "metadata": {
    "slideshow": {
     "slide_type": "fragment"
    }
   },
   "source": [
    "Again, this $\\alpha$ tells us that 5% of the data with the most extreme value lies on the right side of value."
   ]
  },
  {
   "cell_type": "markdown",
   "metadata": {
    "slideshow": {
     "slide_type": "fragment"
    }
   },
   "source": [
    "Since $t$ > $\\alpha$ (21.4 > 20.7), we know that a mean of 16.6 is highly unlikely. "
   ]
  },
  {
   "cell_type": "markdown",
   "metadata": {
    "slideshow": {
     "slide_type": "slide"
    }
   },
   "source": [
    "When computing the p-value for this z-score, we will see that it is about 0.02."
   ]
  },
  {
   "cell_type": "code",
   "execution_count": 261,
   "metadata": {
    "slideshow": {
     "slide_type": "fragment"
    }
   },
   "outputs": [
    {
     "name": "stdout",
     "output_type": "stream",
     "text": [
      "0.026690728111350426\n"
     ]
    }
   ],
   "source": [
    "# Total percentages of values > larger than z\n",
    "p = normal.cdf(z)\n",
    "print(1 - p)"
   ]
  },
  {
   "cell_type": "markdown",
   "metadata": {
    "slideshow": {
     "slide_type": "slide"
    }
   },
   "source": [
    "This, of course, means that this sample mean belongs to the top 2% of extreme values we would observe if the true mean were 16.6 barrels p/y."
   ]
  },
  {
   "cell_type": "markdown",
   "metadata": {
    "slideshow": {
     "slide_type": "fragment"
    }
   },
   "source": [
    "Bad news for us, the car manufacturer and the environment. "
   ]
  },
  {
   "cell_type": "markdown",
   "metadata": {
    "slideshow": {
     "slide_type": "slide"
    }
   },
   "source": [
    "#### 6. and 7. Compare the p-value to $\\alpha$ and reject or confirm the Null Hypothesis. \n"
   ]
  },
  {
   "cell_type": "markdown",
   "metadata": {
    "slideshow": {
     "slide_type": "fragment"
    }
   },
   "source": [
    "At the beginning, we said that we would reject the null hypothesis if the p-value for that hypothesis was smaller than the critical value."
   ]
  },
  {
   "cell_type": "markdown",
   "metadata": {
    "slideshow": {
     "slide_type": "fragment"
    }
   },
   "source": [
    "*  **H0: $\\mu = $ 16.6**  \n",
    "*  H1: $\\mu >  $ 16.6 "
   ]
  },
  {
   "cell_type": "markdown",
   "metadata": {
    "slideshow": {
     "slide_type": "slide"
    }
   },
   "source": [
    "### To reiterate, since the z-statistic (21.4) exceeds the critical value (20.7), we can reject the hypothesis."
   ]
  },
  {
   "cell_type": "markdown",
   "metadata": {
    "slideshow": {
     "slide_type": "fragment"
    }
   },
   "source": [
    "**Important:** This is the same as saying that we have a p-value < 0.05."
   ]
  },
  {
   "cell_type": "markdown",
   "metadata": {
    "slideshow": {
     "slide_type": "slide"
    }
   },
   "source": [
    "### Example: Average BPM in Music\n"
   ]
  },
  {
   "cell_type": "markdown",
   "metadata": {
    "slideshow": {
     "slide_type": "fragment"
    }
   },
   "source": [
    "Let's now look at an example where we do not know the population standard deviation."
   ]
  },
  {
   "cell_type": "code",
   "execution_count": 262,
   "metadata": {
    "slideshow": {
     "slide_type": "fragment"
    }
   },
   "outputs": [],
   "source": [
    "data = pd.read_csv('data_by_artist.csv')"
   ]
  },
  {
   "cell_type": "code",
   "execution_count": 263,
   "metadata": {
    "slideshow": {
     "slide_type": "slide"
    }
   },
   "outputs": [
    {
     "data": {
      "text/html": [
       "<div>\n",
       "<style scoped>\n",
       "    .dataframe tbody tr th:only-of-type {\n",
       "        vertical-align: middle;\n",
       "    }\n",
       "\n",
       "    .dataframe tbody tr th {\n",
       "        vertical-align: top;\n",
       "    }\n",
       "\n",
       "    .dataframe thead th {\n",
       "        text-align: right;\n",
       "    }\n",
       "</style>\n",
       "<table border=\"1\" class=\"dataframe\">\n",
       "  <thead>\n",
       "    <tr style=\"text-align: right;\">\n",
       "      <th></th>\n",
       "      <th>artists</th>\n",
       "      <th>acousticness</th>\n",
       "      <th>danceability</th>\n",
       "      <th>duration_ms</th>\n",
       "      <th>energy</th>\n",
       "      <th>instrumentalness</th>\n",
       "      <th>liveness</th>\n",
       "      <th>loudness</th>\n",
       "      <th>speechiness</th>\n",
       "      <th>tempo</th>\n",
       "      <th>valence</th>\n",
       "      <th>popularity</th>\n",
       "      <th>key</th>\n",
       "      <th>mode</th>\n",
       "      <th>count</th>\n",
       "    </tr>\n",
       "  </thead>\n",
       "  <tbody>\n",
       "    <tr>\n",
       "      <td>0</td>\n",
       "      <td>\"Cats\" 1981 Original London Cast</td>\n",
       "      <td>0.575083</td>\n",
       "      <td>0.442750</td>\n",
       "      <td>247260.000000</td>\n",
       "      <td>0.386336</td>\n",
       "      <td>0.022717</td>\n",
       "      <td>0.287708</td>\n",
       "      <td>-14.205417</td>\n",
       "      <td>0.180675</td>\n",
       "      <td>115.983500</td>\n",
       "      <td>0.334433</td>\n",
       "      <td>38.000000</td>\n",
       "      <td>5</td>\n",
       "      <td>1</td>\n",
       "      <td>12</td>\n",
       "    </tr>\n",
       "    <tr>\n",
       "      <td>1</td>\n",
       "      <td>\"Cats\" 1983 Broadway Cast</td>\n",
       "      <td>0.862538</td>\n",
       "      <td>0.441731</td>\n",
       "      <td>287280.000000</td>\n",
       "      <td>0.406808</td>\n",
       "      <td>0.081158</td>\n",
       "      <td>0.315215</td>\n",
       "      <td>-10.690000</td>\n",
       "      <td>0.176212</td>\n",
       "      <td>103.044154</td>\n",
       "      <td>0.268865</td>\n",
       "      <td>33.076923</td>\n",
       "      <td>5</td>\n",
       "      <td>1</td>\n",
       "      <td>26</td>\n",
       "    </tr>\n",
       "    <tr>\n",
       "      <td>2</td>\n",
       "      <td>\"Fiddler On The Roof” Motion Picture Chorus</td>\n",
       "      <td>0.856571</td>\n",
       "      <td>0.348286</td>\n",
       "      <td>328920.000000</td>\n",
       "      <td>0.286571</td>\n",
       "      <td>0.024593</td>\n",
       "      <td>0.325786</td>\n",
       "      <td>-15.230714</td>\n",
       "      <td>0.118514</td>\n",
       "      <td>77.375857</td>\n",
       "      <td>0.354857</td>\n",
       "      <td>34.285714</td>\n",
       "      <td>0</td>\n",
       "      <td>1</td>\n",
       "      <td>7</td>\n",
       "    </tr>\n",
       "    <tr>\n",
       "      <td>3</td>\n",
       "      <td>\"Fiddler On The Roof” Motion Picture Orchestra</td>\n",
       "      <td>0.884926</td>\n",
       "      <td>0.425074</td>\n",
       "      <td>262890.962963</td>\n",
       "      <td>0.245770</td>\n",
       "      <td>0.073587</td>\n",
       "      <td>0.275481</td>\n",
       "      <td>-15.639370</td>\n",
       "      <td>0.123200</td>\n",
       "      <td>88.667630</td>\n",
       "      <td>0.372030</td>\n",
       "      <td>34.444444</td>\n",
       "      <td>0</td>\n",
       "      <td>1</td>\n",
       "      <td>27</td>\n",
       "    </tr>\n",
       "    <tr>\n",
       "      <td>4</td>\n",
       "      <td>\"Joseph And The Amazing Technicolor Dreamcoat\"...</td>\n",
       "      <td>0.605444</td>\n",
       "      <td>0.437333</td>\n",
       "      <td>232428.111111</td>\n",
       "      <td>0.429333</td>\n",
       "      <td>0.037534</td>\n",
       "      <td>0.216111</td>\n",
       "      <td>-11.447222</td>\n",
       "      <td>0.086000</td>\n",
       "      <td>120.329667</td>\n",
       "      <td>0.458667</td>\n",
       "      <td>42.555556</td>\n",
       "      <td>11</td>\n",
       "      <td>1</td>\n",
       "      <td>9</td>\n",
       "    </tr>\n",
       "  </tbody>\n",
       "</table>\n",
       "</div>"
      ],
      "text/plain": [
       "                                             artists  acousticness  \\\n",
       "0                   \"Cats\" 1981 Original London Cast      0.575083   \n",
       "1                          \"Cats\" 1983 Broadway Cast      0.862538   \n",
       "2        \"Fiddler On The Roof” Motion Picture Chorus      0.856571   \n",
       "3     \"Fiddler On The Roof” Motion Picture Orchestra      0.884926   \n",
       "4  \"Joseph And The Amazing Technicolor Dreamcoat\"...      0.605444   \n",
       "\n",
       "   danceability    duration_ms    energy  instrumentalness  liveness  \\\n",
       "0      0.442750  247260.000000  0.386336          0.022717  0.287708   \n",
       "1      0.441731  287280.000000  0.406808          0.081158  0.315215   \n",
       "2      0.348286  328920.000000  0.286571          0.024593  0.325786   \n",
       "3      0.425074  262890.962963  0.245770          0.073587  0.275481   \n",
       "4      0.437333  232428.111111  0.429333          0.037534  0.216111   \n",
       "\n",
       "    loudness  speechiness       tempo   valence  popularity  key  mode  count  \n",
       "0 -14.205417     0.180675  115.983500  0.334433   38.000000    5     1     12  \n",
       "1 -10.690000     0.176212  103.044154  0.268865   33.076923    5     1     26  \n",
       "2 -15.230714     0.118514   77.375857  0.354857   34.285714    0     1      7  \n",
       "3 -15.639370     0.123200   88.667630  0.372030   34.444444    0     1     27  \n",
       "4 -11.447222     0.086000  120.329667  0.458667   42.555556   11     1      9  "
      ]
     },
     "execution_count": 263,
     "metadata": {},
     "output_type": "execute_result"
    }
   ],
   "source": [
    "data.head()"
   ]
  },
  {
   "cell_type": "markdown",
   "metadata": {
    "slideshow": {
     "slide_type": "slide"
    }
   },
   "source": [
    "Using this data, we want to verify the claim that the average tempo in data from the real world is not 114 BPM."
   ]
  },
  {
   "cell_type": "markdown",
   "metadata": {
    "slideshow": {
     "slide_type": "fragment"
    }
   },
   "source": [
    "Thus, we want to show that assuming the opposite leads to an absurdity. "
   ]
  },
  {
   "cell_type": "code",
   "execution_count": 264,
   "metadata": {
    "slideshow": {
     "slide_type": "fragment"
    }
   },
   "outputs": [],
   "source": [
    "bpm = data['tempo']"
   ]
  },
  {
   "cell_type": "code",
   "execution_count": 265,
   "metadata": {
    "slideshow": {
     "slide_type": "fragment"
    }
   },
   "outputs": [
    {
     "data": {
      "text/plain": [
       "217.743"
      ]
     },
     "execution_count": 265,
     "metadata": {},
     "output_type": "execute_result"
    }
   ],
   "source": [
    "bpm.max()"
   ]
  },
  {
   "cell_type": "code",
   "execution_count": 266,
   "metadata": {
    "slideshow": {
     "slide_type": "fragment"
    }
   },
   "outputs": [
    {
     "data": {
      "text/plain": [
       "0.0"
      ]
     },
     "execution_count": 266,
     "metadata": {},
     "output_type": "execute_result"
    }
   ],
   "source": [
    "bpm.min()"
   ]
  },
  {
   "cell_type": "markdown",
   "metadata": {
    "slideshow": {
     "slide_type": "slide"
    }
   },
   "source": [
    "#### 1. Specify the Alternative Hypothesis\n",
    "\n",
    "We specify the alternative hypothesis for our problem as follows: \n",
    "\n",
    "\n",
    "\n",
    "*   Ha: the average BPM for music $\\neq$ 114.  \n",
    "\n"
   ]
  },
  {
   "cell_type": "markdown",
   "metadata": {
    "slideshow": {
     "slide_type": "slide"
    }
   },
   "source": [
    "#### 2. Specify the Null Hypothesis\n",
    "\n",
    "Our null hypothesis is the following:\n",
    "\n",
    "*  H0: the average BPM for music $=$ 114.  "
   ]
  },
  {
   "cell_type": "markdown",
   "metadata": {
    "slideshow": {
     "slide_type": "fragment"
    }
   },
   "source": [
    "Note that this requires us to look at both sides of the distribution. "
   ]
  },
  {
   "cell_type": "markdown",
   "metadata": {
    "slideshow": {
     "slide_type": "fragment"
    }
   },
   "source": [
    "In other words, we're interested in whether 114 BPM may be significantly different from the true mean, not whether it is necessarily larger or smaller. "
   ]
  },
  {
   "cell_type": "markdown",
   "metadata": {
    "slideshow": {
     "slide_type": "slide"
    }
   },
   "source": [
    "#### 3. Set Critical Value\n",
    "\n",
    "Again, we will set alpha to:\n",
    "\n",
    "*   $\\alpha$ = 0.05.\n",
    "\n",
    "We will only reject our null hypothesis if we end up in the lowest top 2.5% of the data or the highest 2.5% of the data.\n",
    "\n"
   ]
  },
  {
   "cell_type": "markdown",
   "metadata": {
    "slideshow": {
     "slide_type": "slide"
    }
   },
   "source": [
    "#### 4. Compute the t-score \n"
   ]
  },
  {
   "cell_type": "markdown",
   "metadata": {
    "slideshow": {
     "slide_type": "fragment"
    }
   },
   "source": [
    "In the previous example, we were able to compute the z-score. However, as we have seen in the previous lecture, when dealing with an unknown $\\sigma$, we need to use Student's t-distribution and hence a t-test. "
   ]
  },
  {
   "cell_type": "markdown",
   "metadata": {
    "slideshow": {
     "slide_type": "slide"
    }
   },
   "source": [
    "The t-test can be computed as follows:\n",
    "\n",
    "$$t = \\frac{\\bar{X} - \\mu}{\\frac{s}{\\sqrt{n}}},$$\n",
    "\n",
    "where $s$ denotes the standard deviation of the sample $\\bar{X}$ the mean of the sample, $\\mu$ the (assumed) population mean and $n$ the sample size."
   ]
  },
  {
   "cell_type": "code",
   "execution_count": 267,
   "metadata": {
    "slideshow": {
     "slide_type": "slide"
    }
   },
   "outputs": [],
   "source": [
    "# Terms\n",
    "bpm_mean = bpm.mean()\n",
    "mu = 114\n",
    "sample_stdev = bpm.std()\n",
    "standard_error = sample_stdev / np.sqrt(len(bpm))"
   ]
  },
  {
   "cell_type": "code",
   "execution_count": 268,
   "metadata": {
    "slideshow": {
     "slide_type": "fragment"
    }
   },
   "outputs": [
    {
     "name": "stdout",
     "output_type": "stream",
     "text": [
      "9.515059826971486\n"
     ]
    }
   ],
   "source": [
    "t_value = (bpm_mean - mu) / standard_error\n",
    "print(t_value)"
   ]
  },
  {
   "cell_type": "markdown",
   "metadata": {
    "slideshow": {
     "slide_type": "fragment"
    }
   },
   "source": [
    "We now have a t-statistic. Let us now compute see if how extreme this value is."
   ]
  },
  {
   "cell_type": "markdown",
   "metadata": {
    "slideshow": {
     "slide_type": "slide"
    }
   },
   "source": [
    "#### 5. Calculate the p-value\n"
   ]
  },
  {
   "cell_type": "code",
   "execution_count": 269,
   "metadata": {
    "slideshow": {
     "slide_type": "fragment"
    }
   },
   "outputs": [],
   "source": [
    "from scipy.stats import t\n",
    "\n",
    "df = len(bpm) - 1\n",
    "mean, var, skew, kurt = t.stats(df, moments='mvsk')"
   ]
  },
  {
   "cell_type": "markdown",
   "metadata": {
    "slideshow": {
     "slide_type": "slide"
    }
   },
   "source": [
    "We can compute the alpha level of (0.05 / 2) = 0.025 (recall, it is two-sided!) as follows:"
   ]
  },
  {
   "cell_type": "code",
   "execution_count": 271,
   "metadata": {
    "slideshow": {
     "slide_type": "fragment"
    }
   },
   "outputs": [
    {
     "name": "stdout",
     "output_type": "stream",
     "text": [
      "1.9600498778573614\n"
     ]
    }
   ],
   "source": [
    "# retrieve value <= probability\n",
    "alpha = 0.025\n",
    "alpha = 1 - alpha\n",
    "alpha = t.ppf(alpha, df)\n",
    "print(alpha)\n",
    "# confirm with cdf"
   ]
  },
  {
   "cell_type": "markdown",
   "metadata": {
    "slideshow": {
     "slide_type": "fragment"
    }
   },
   "source": [
    "Since our value for t (9.5) is much higher than the critical value of 1.96, we can reject the null hypothesis."
   ]
  },
  {
   "cell_type": "markdown",
   "metadata": {
    "slideshow": {
     "slide_type": "slide"
    }
   },
   "source": [
    "Let us now also compute the p-value. We can also use the ttest method from the scipy library."
   ]
  },
  {
   "cell_type": "code",
   "execution_count": 272,
   "metadata": {},
   "outputs": [
    {
     "data": {
      "text/plain": [
       "\u001b[0;31mSignature:\u001b[0m \u001b[0mttest_1samp\u001b[0m\u001b[0;34m(\u001b[0m\u001b[0ma\u001b[0m\u001b[0;34m,\u001b[0m \u001b[0mpopmean\u001b[0m\u001b[0;34m,\u001b[0m \u001b[0maxis\u001b[0m\u001b[0;34m=\u001b[0m\u001b[0;36m0\u001b[0m\u001b[0;34m,\u001b[0m \u001b[0mnan_policy\u001b[0m\u001b[0;34m=\u001b[0m\u001b[0;34m'propagate'\u001b[0m\u001b[0;34m)\u001b[0m\u001b[0;34m\u001b[0m\u001b[0;34m\u001b[0m\u001b[0m\n",
       "\u001b[0;31mDocstring:\u001b[0m\n",
       "Calculate the T-test for the mean of ONE group of scores.\n",
       "\n",
       "This is a two-sided test for the null hypothesis that the expected value\n",
       "(mean) of a sample of independent observations `a` is equal to the given\n",
       "population mean, `popmean`.\n",
       "\n",
       "Parameters\n",
       "----------\n",
       "a : array_like\n",
       "    sample observation\n",
       "popmean : float or array_like\n",
       "    expected value in null hypothesis. If array_like, then it must have the\n",
       "    same shape as `a` excluding the axis dimension\n",
       "axis : int or None, optional\n",
       "    Axis along which to compute test. If None, compute over the whole\n",
       "    array `a`.\n",
       "nan_policy : {'propagate', 'raise', 'omit'}, optional\n",
       "    Defines how to handle when input contains nan. 'propagate' returns nan,\n",
       "    'raise' throws an error, 'omit' performs the calculations ignoring nan\n",
       "    values. Default is 'propagate'.\n",
       "\n",
       "Returns\n",
       "-------\n",
       "statistic : float or array\n",
       "    t-statistic\n",
       "pvalue : float or array\n",
       "    two-tailed p-value\n",
       "\n",
       "Examples\n",
       "--------\n",
       ">>> from scipy import stats\n",
       "\n",
       ">>> np.random.seed(7654567)  # fix seed to get the same result\n",
       ">>> rvs = stats.norm.rvs(loc=5, scale=10, size=(50,2))\n",
       "\n",
       "Test if mean of random sample is equal to true mean, and different mean.\n",
       "We reject the null hypothesis in the second case and don't reject it in\n",
       "the first case.\n",
       "\n",
       ">>> stats.ttest_1samp(rvs,5.0)\n",
       "(array([-0.68014479, -0.04323899]), array([ 0.49961383,  0.96568674]))\n",
       ">>> stats.ttest_1samp(rvs,0.0)\n",
       "(array([ 2.77025808,  4.11038784]), array([ 0.00789095,  0.00014999]))\n",
       "\n",
       "Examples using axis and non-scalar dimension for population mean.\n",
       "\n",
       ">>> stats.ttest_1samp(rvs,[5.0,0.0])\n",
       "(array([-0.68014479,  4.11038784]), array([  4.99613833e-01,   1.49986458e-04]))\n",
       ">>> stats.ttest_1samp(rvs.T,[5.0,0.0],axis=1)\n",
       "(array([-0.68014479,  4.11038784]), array([  4.99613833e-01,   1.49986458e-04]))\n",
       ">>> stats.ttest_1samp(rvs,[[5.0],[0.0]])\n",
       "(array([[-0.68014479, -0.04323899],\n",
       "       [ 2.77025808,  4.11038784]]), array([[  4.99613833e-01,   9.65686743e-01],\n",
       "       [  7.89094663e-03,   1.49986458e-04]]))\n",
       "\u001b[0;31mFile:\u001b[0m      ~/opt/anaconda3/lib/python3.7/site-packages/scipy/stats/stats.py\n",
       "\u001b[0;31mType:\u001b[0m      function\n"
      ]
     },
     "metadata": {},
     "output_type": "display_data"
    }
   ],
   "source": [
    "?ttest_1samp"
   ]
  },
  {
   "cell_type": "code",
   "execution_count": 273,
   "metadata": {
    "slideshow": {
     "slide_type": "slide"
    }
   },
   "outputs": [
    {
     "name": "stdout",
     "output_type": "stream",
     "text": [
      "9.5150598269653\n",
      "1.9588185051895238e-21\n"
     ]
    }
   ],
   "source": [
    "# remember that 114 is the mu\n",
    "t, p = ttest_1samp(bpm, 114)\n",
    "print(t)\n",
    "print(p)"
   ]
  },
  {
   "cell_type": "markdown",
   "metadata": {
    "slideshow": {
     "slide_type": "slide"
    }
   },
   "source": [
    "#### 6. and 7. Compare the p-value and reject or confirm the Null Hypothesis. \n"
   ]
  },
  {
   "cell_type": "markdown",
   "metadata": {
    "slideshow": {
     "slide_type": "fragment"
    }
   },
   "source": [
    "Since the p-value is extremely low, we can reject the following null hypothesis:"
   ]
  },
  {
   "cell_type": "markdown",
   "metadata": {
    "slideshow": {
     "slide_type": "fragment"
    }
   },
   "source": [
    "- H0: the average BPM for music $=$ 114. "
   ]
  },
  {
   "cell_type": "markdown",
   "metadata": {
    "slideshow": {
     "slide_type": "slide"
    }
   },
   "source": [
    "### Example: US Presidents"
   ]
  },
  {
   "cell_type": "markdown",
   "metadata": {
    "slideshow": {
     "slide_type": "fragment"
    }
   },
   "source": [
    "As a bonus, let's look at our data set of presidents once more. We will work with a sample of 20 presidents. "
   ]
  },
  {
   "cell_type": "code",
   "execution_count": 274,
   "metadata": {
    "slideshow": {
     "slide_type": "fragment"
    }
   },
   "outputs": [],
   "source": [
    "presidents = pd.read_csv('https://raw.githubusercontent.com/loukjsmalbil/datasets_ws/master/presidents_heights.csv')\n",
    "heights = presidents['height(cm)']\n",
    "sample = heights.sample(n=20)"
   ]
  },
  {
   "cell_type": "markdown",
   "metadata": {
    "slideshow": {
     "slide_type": "slide"
    }
   },
   "source": [
    "My claim is here is that the average height of US presidents is *not* 178 cm. My null hypothesis is therefore:\n",
    "\n",
    "- $H0:$ $\\mu_{presidents} = 178$\n",
    "\n",
    "Also, I assume that we do not know $\\sigma$ this time."
   ]
  },
  {
   "cell_type": "code",
   "execution_count": 276,
   "metadata": {
    "slideshow": {
     "slide_type": "slide"
    }
   },
   "outputs": [],
   "source": [
    "sample_mean = sample.mean()\n",
    "mu = 178\n",
    "sample_stdev = sample.std()\n",
    "standard_error = sample_stdev / np.sqrt(len(sample))"
   ]
  },
  {
   "cell_type": "code",
   "execution_count": 277,
   "metadata": {
    "slideshow": {
     "slide_type": "slide"
    }
   },
   "outputs": [
    {
     "name": "stdout",
     "output_type": "stream",
     "text": [
      "0.40756135023220297\n"
     ]
    }
   ],
   "source": [
    "t_value = (sample_mean - mu) / standard_error\n",
    "print(t_value)"
   ]
  },
  {
   "cell_type": "code",
   "execution_count": 278,
   "metadata": {
    "slideshow": {
     "slide_type": "slide"
    }
   },
   "outputs": [],
   "source": [
    "from scipy.stats import t\n",
    "\n",
    "df = len(sample) - 1\n",
    "mean, var, skew, kurt = t.stats(df, moments='mvsk')"
   ]
  },
  {
   "cell_type": "code",
   "execution_count": 279,
   "metadata": {
    "slideshow": {
     "slide_type": "slide"
    }
   },
   "outputs": [
    {
     "name": "stdout",
     "output_type": "stream",
     "text": [
      "2.093024054408263\n"
     ]
    }
   ],
   "source": [
    "# retrieve value <= probability\n",
    "alpha = 1 - 0.025\n",
    "alpha = t.ppf(alpha, df)\n",
    "print(alpha)\n",
    "# confirm with cdf"
   ]
  },
  {
   "cell_type": "code",
   "execution_count": 281,
   "metadata": {
    "slideshow": {
     "slide_type": "fragment"
    }
   },
   "outputs": [
    {
     "name": "stdout",
     "output_type": "stream",
     "text": [
      "0.34407563409660114\n"
     ]
    }
   ],
   "source": [
    "p = t.cdf(t_value, df)\n",
    "print(1-p)"
   ]
  },
  {
   "cell_type": "markdown",
   "metadata": {
    "slideshow": {
     "slide_type": "slide"
    }
   },
   "source": [
    "#### A Quick Computation"
   ]
  },
  {
   "cell_type": "code",
   "execution_count": 282,
   "metadata": {
    "slideshow": {
     "slide_type": "fragment"
    }
   },
   "outputs": [
    {
     "name": "stdout",
     "output_type": "stream",
     "text": [
      "0.4075613502322029\n",
      "0.6881512681932023\n"
     ]
    }
   ],
   "source": [
    "t, p = ttest_1samp(sample, 178)\n",
    "print(t)\n",
    "print(p)"
   ]
  },
  {
   "cell_type": "markdown",
   "metadata": {
    "slideshow": {
     "slide_type": "fragment"
    }
   },
   "source": [
    "Thus, as indicated by the high p-value, it is reasonable to assume that the average height for US presidents is 178."
   ]
  },
  {
   "cell_type": "markdown",
   "metadata": {
    "slideshow": {
     "slide_type": "slide"
    }
   },
   "source": [
    "In other words, we cannot reject our null hypothesis."
   ]
  },
  {
   "cell_type": "markdown",
   "metadata": {},
   "source": [
    "## How Do I Interpret the P-Values in Linear Regression Analysis?\n",
    "The p-value for each term tests the null hypothesis that the coefficient is equal to zero (no effect).\n",
    "\n",
    "A low p-value (< 0.05) indicates that you can reject the null hypothesis. In other words, a predictor that has a low p-value is likely to be a meaningful addition to your model because changes in the predictor's value are related to changes in the response variable.\n",
    "\n",
    "\n",
    " <img src='https://blog.minitab.com/hubfs/Imported_Blog_Media/regr_p_values.gif' /></a>\n"
   ]
  },
  {
   "cell_type": "markdown",
   "metadata": {
    "slideshow": {
     "slide_type": "slide"
    }
   },
   "source": [
    "## Summary "
   ]
  },
  {
   "cell_type": "markdown",
   "metadata": {
    "slideshow": {
     "slide_type": "fragment"
    }
   },
   "source": [
    "In this lesson we learnt:"
   ]
  },
  {
   "cell_type": "markdown",
   "metadata": {
    "slideshow": {
     "slide_type": "fragment"
    }
   },
   "source": [
    "- What hypotheses are;"
   ]
  },
  {
   "cell_type": "markdown",
   "metadata": {
    "slideshow": {
     "slide_type": "fragment"
    }
   },
   "source": [
    "- How we can quantify statistical significance;"
   ]
  },
  {
   "cell_type": "markdown",
   "metadata": {
    "slideshow": {
     "slide_type": "fragment"
    }
   },
   "source": [
    "- What critical values and p-values are;"
   ]
  },
  {
   "cell_type": "markdown",
   "metadata": {
    "slideshow": {
     "slide_type": "fragment"
    }
   },
   "source": [
    "- How we could use hypothesis testing in real life case. "
   ]
  },
  {
   "cell_type": "markdown",
   "metadata": {
    "slideshow": {
     "slide_type": "slide"
    }
   },
   "source": [
    "# Appendix "
   ]
  },
  {
   "cell_type": "markdown",
   "metadata": {
    "Collapsed": "false",
    "colab_type": "text",
    "id": "RS4Hp4_p3jxP",
    "slideshow": {
     "slide_type": "slide"
    }
   },
   "source": [
    "## Types of Alternative Hypotheses \n",
    "\n",
    "There are two types of alternative hypotheses: one-sided and two-sided. One-sided alternative hypothesis (a.k.a. directional hypothesis) is used to determine whether the population average differs from the hypothesized value in a specific direction (larger but not smaller than, or vice versa). **In contrast, two-sided alternative hypothesis (a.k.a. nondirectional hypothesis) is used to determine whether the population average is either greater than or less than the hypothesized value.**\n",
    "\n",
    "Why we differentiate these two types? Because sometimes we are not interested in whether the population average is larger or smaller than the hypothesized value. We only care if they are different. In this case, we use two-sided instead of one-sided hypothesis. However, in case we care about which is the case, we use one-sided hypothesis.\n",
    "\n",
    "For instance, let $k$ be some value and our hypothesis that $\\mu = k$. Thus,\n",
    "\n",
    "* H0: μ = k\t\n",
    "\n",
    "Then a one-sided Alternative Hypothesis would look like this:\n",
    "\n",
    "* H1: μ > k *OR*\n",
    "* H1: μ < k\t\n",
    "\n",
    "On the other hand, a two-sides Alternative Hypothesis would look like this:\n",
    "\n",
    "* H1: μ ≠ k"
   ]
  },
  {
   "cell_type": "markdown",
   "metadata": {
    "Collapsed": "false",
    "colab_type": "text",
    "id": "X_zxnx2rxNxQ",
    "slideshow": {
     "slide_type": "slide"
    }
   },
   "source": [
    "https://machinelearningmastery.com/statistical-hypothesis-tests/ "
   ]
  },
  {
   "cell_type": "markdown",
   "metadata": {
    "Collapsed": "false",
    "colab_type": "text",
    "id": "2bAeifXOIO5B",
    "slideshow": {
     "slide_type": "slide"
    }
   },
   "source": [
    "The idea of a two-sides Alternative Hypothesis is that we no longer look at only one region to reject or accept or test, but to both the left region and right region. \n",
    "\n",
    "![alt text](https://camo.githubusercontent.com/1a8495533cd8c50c73ef2b881d1aaab7d6c00fa2/68747470733a2f2f736c696465706c617965722e636f6d2f736c6964652f393332353539392f32382f696d616765732f362f54797065732b6f662b4879706f7468657369732b54657374732e6a7067)\n"
   ]
  },
  {
   "cell_type": "markdown",
   "metadata": {
    "Collapsed": "false",
    "colab_type": "text",
    "id": "6vGOdqj6qIDF",
    "slideshow": {
     "slide_type": "slide"
    }
   },
   "source": [
    "By default, the ttest_1samp method carries out a two-sides hypothesis test. "
   ]
  },
  {
   "cell_type": "markdown",
   "metadata": {
    "Collapsed": "false",
    "colab_type": "text",
    "id": "VYmg8Fw04A-p",
    "slideshow": {
     "slide_type": "slide"
    }
   },
   "source": [
    "## Test Assumptions\n",
    "\n",
    "In order to conduct a hypothesis test we need to meet certain assumptions:\n",
    "\n",
    "1. Our observations must be **independent** of each other. For example, if we have people who live in the same household participating in a medical trial, they might be exposed to the same environmental conditions or eat the same food. This can bias our results.\n",
    "2.   Normality of data - We assume that the sample is derived from a normally distributed data.\n",
    "3.   Adequate sample size. In order to perform a test using the normal distribution and not approximate to the t distribution, our sample size must be greater than 30.\n",
    "4.   In order to use the normal distribution for our hypothesis test, we must assume the population standard deviation is known. If the population standard deviation is not known, then we use the t-distribution for the hypothesis test.\n",
    "\n",
    "Please also be careful for sampling bias:\n",
    "\n",
    "*   **Sampling Bias** - Sampling bias occurs when some members of the intended population are less likely to be included than others in the selected sample. Say we collected the data at Wall Street at 10AM on Monday. Significant bias can be introduced due to the flaws of the data collection because people who appear at Wall Street at that specific time are most likely working professionals in the financial industry. The sample data will miss a lot of people from other industries and other NYC neighborhoods. Consequently, the selected sample is not a good representation of NYC residents.\n",
    "\n"
   ]
  },
  {
   "cell_type": "markdown",
   "metadata": {
    "Collapsed": "false",
    "colab_type": "text",
    "id": "4Gx-_4CjONHf",
    "slideshow": {
     "slide_type": "slide"
    }
   },
   "source": [
    "## Summary\n",
    "\n",
    "In this lesson we learned how to perform a hypothesis test. To do this, we had to introduce a large number of terms: population, sample, null hypothesis, alternative hypothesis, test statistic, p-value, and confidence interval. We then showed how we can use our test to come up with a conclusion for a real-life scenario and learned how to do this with Python."
   ]
  },
  {
   "cell_type": "code",
   "execution_count": null,
   "metadata": {},
   "outputs": [],
   "source": []
  }
 ],
 "metadata": {
  "celltoolbar": "Slideshow",
  "colab": {
   "authorship_tag": "ABX9TyOZWVIl8fnhKs30/8ZdgEuo",
   "collapsed_sections": [],
   "name": "Hypothesis_Testing.ipynb",
   "provenance": []
  },
  "kernelspec": {
   "display_name": "Python 3",
   "language": "python",
   "name": "python3"
  },
  "language_info": {
   "codemirror_mode": {
    "name": "ipython",
    "version": 3
   },
   "file_extension": ".py",
   "mimetype": "text/x-python",
   "name": "python",
   "nbconvert_exporter": "python",
   "pygments_lexer": "ipython3",
   "version": "3.8.5"
  }
 },
 "nbformat": 4,
 "nbformat_minor": 4
}
